{
 "cells": [
  {
   "cell_type": "markdown",
   "metadata": {},
   "source": [
    "# Tutorial on basic Python programming\n",
    "\n",
    ">*  ### Target audience: People who have never programmed in Python before and people who want a refresher\n",
    "> 2. ### First tutorial in Hack-It series."
   ]
  },
  {
   "cell_type": "markdown",
   "metadata": {},
   "source": [
    "## Outline\n",
    "\n",
    ">### What is Python? Why should you learn it?\n",
    "\n",
    ">### Contents\n",
    "    1. Python as Calculator\n",
    "    2. Printing stuff\n",
    "    3. Variables\n",
    "    4. Strings\n",
    "    4. Flow control\n",
    "    5. Built-in datatypes - Lists, Tuples, Sets, Dictionaries\n",
    "    6. Loops\n",
    "    7. Functions\n",
    "    8. File handling\n",
    "    9. Using modules\n",
    "    10. Package management using pip\n",
    "\n",
    ">### Demo of cool stuff\n",
    "\n",
    ">### Conclusion - Going from here\n"
   ]
  },
  {
   "cell_type": "markdown",
   "metadata": {},
   "source": [
    "# What is Python and why should you learn it?\n",
    "\n",
    "Python is a very high level programming language. Python has a clear and concise syntax, which favors the readability of source code, and makes the language more productive. \n",
    "\n",
    "Python has a \"batteries-included\" philosophy. This means that the language includes several high-level structures (lists, dictionaries, date / time, complex numbers and others) and a vast collection of modules ready for use, plus third-party frameworks that can be added. It also has features found in other modern languages, such as generators, introspection, persistence, metaclasses and unity tests. Multiparadigm, the language supports modular, functional, and object-oriented programming.\n",
    "\n",
    "Python has a very large and active community. This means that whatever you're doing, chances are that someone else has done something similar. This is helpful when you run into bugs or other issues."
   ]
  },
  {
   "cell_type": "markdown",
   "metadata": {},
   "source": [
    "# Let's get started :D\n",
    "\n",
    "* Go to the following link https://github.com/ACM-SNU/Python-Basics and Click on Part I.ipyb "
   ]
  }
 ],
 "metadata": {
  "kernelspec": {
   "display_name": "Python 3",
   "language": "python",
   "name": "python3"
  },
  "language_info": {
   "codemirror_mode": {
    "name": "ipython",
    "version": 3
   },
   "file_extension": ".py",
   "mimetype": "text/x-python",
   "name": "python",
   "nbconvert_exporter": "python",
   "pygments_lexer": "ipython3",
   "version": "3.4.3"
  }
 },
 "nbformat": 4,
 "nbformat_minor": 0
}
