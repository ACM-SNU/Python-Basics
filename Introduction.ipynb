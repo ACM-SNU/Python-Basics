{
 "cells": [
  {
   "cell_type": "markdown",
   "metadata": {},
   "source": [
    "# Tutorial on basic Python programming\n",
    "\n",
    "1. Target audience: People who have never programmed in Python before and people who want a refresher\n",
    "2. First tutorial in Hack-It series."
   ]
  },
  {
   "cell_type": "markdown",
   "metadata": {},
   "source": [
    "## Outline\n",
    "\n",
    "### What is Python? Why should you learn it?\n",
    "\n",
    "### Contents\n",
    "    1. Python as Calculator\n",
    "    2. Printing stuff\n",
    "    3. Variables\n",
    "    4. Strings\n",
    "    4. Flow control\n",
    "    5. Built-in datatypes - Lists, Tuples, Sets, Dictionaries\n",
    "    6. Loops\n",
    "    7. Functions\n",
    "    8. File handling\n",
    "    9. Using modules\n",
    "    10. Package management using pip\n",
    "\n",
    "### Demo of cool stuff\n",
    "\n",
    "### Conclusion - Going from here\n"
   ]
  },
  {
   "cell_type": "markdown",
   "metadata": {},
   "source": [
    "# Setup\n",
    "\n",
    "**Please complete the instructions on this page before you arrive at the Intro to Python workshop.**\n",
    "\n",
    "Stuck or need help? Call out the Voluenteers\n",
    "\n",
    "## Windows\n",
    "\n",
    "Please go to this website page https://www.python.org/downloads/ to download the Python installer:\n",
    "- click on the `Download Python 3.5.1` button (a yellow button on left side of screen),\n",
    "- this will start the download of the appropriate Windows MSI installer \n",
    "- accept the default download filename: `python-3.5.1.msi`(win32bits) or `python-3.5.1.amd.msi`(win64bits) \n",
    "- save the MSI Installer file to your pc,\n",
    "- double click the downloaded file to open it and run the installer \n",
    "\n",
    "\n",
    "## Linux\n",
    "\n",
    "It is very likely that you already have Python installed out of the box. To check if you have it installed (and which version it is), open a console and type the following command:\n",
    "\n",
    "```\n",
    "$ python3 --version\n",
    "Python 3.5.1\n",
    "```\n",
    "\n",
    "If you don't have Python installed or if you have a version older then 3.5 , you can install version 3.5 as follows:\n",
    "\n",
    "#### Ubuntu\n",
    "\n",
    "Type this command into your console:\n",
    "\n",
    "```\n",
    "sudo apt-get install python3.4\n",
    "```\n",
    "\n",
    "#### Fedora\n",
    "\n",
    "Use this command in your console:\n",
    "\n",
    "```\n",
    "sudo yum install python3.4\n",
    "```\n",
    "\n",
    "## Mac OS X\n",
    "\n",
    "Please go to this website page https://www.python.org/downloads/ to download the Python installer:\n",
    "- click on the `Download Python 3.4.1` button (a yellow button on left side of screen),\n",
    "- download the Mac OS X 64-bit/32-bit installer dmg file `python-3.4.1-macosx10.6.dmg` and save it to your mac,\n",
    "- double click the downloaded file to open it and run the installer (Tip: If you forget or can't find where you saved the downloaded file, you may use the magnifying glass in the upper right corner of the screen to search for the file by name.)\n",
    "\n",
    "\n",
    "** Verify the installation **\n",
    "\n",
    "Verify the installation was successful by opening the Terminal application and running the python3 command by typing <span style=\"color:blue\">python3 --version</span> after the `$` command prompt:\n",
    "```\n",
    "$ python3 --version\n",
    "Python 3.4.1\n",
    "```\n",
    "\n",
    "<!-- <span style=\"color:red\">**Are you using Mac OS X 10.5 (a possibility if you have a Mac laptop built before mid-2010)?**</span>  \n",
    "If you are using Mac OS X 10.5, your installation process will differ slightly. (Tip: You may check your Mac OS X version by selecting the Apple icon in the top left corner of the screen and choosing \"About This Mac\".)</span>\n",
    "\n",
    "For Mac OS X 10.5 users only:\n",
    "- click on this link: https://www.python.org/downloads/release/python-341/\n",
    "- scroll down to \"Files\" heading and double click on \"Mac OS X 32-bit i386/PPC installer\"\n",
    "- save the \"Mac OS X 32-bit i386/PPC installer\" dmg file `python-3.4.1-macosx10.5.dmg` to your mac,\n",
    "- double click the downloaded file to open it and run the installer (Tip: If you forget or can't find where you saved the downloaded file, you may use the magnifying glass in the upper right corner of the screen to search for the file by name.), \n",
    "- follow the steps above to verify your installation -->"
   ]
  },
  {
   "cell_type": "markdown",
   "metadata": {},
   "source": [
    "# What is Python and why should you learn it?\n",
    "\n",
    "Python is a very high level programming language. Python has a clear and concise syntax, which favors the readability of source code, and makes the language more productive. \n",
    "\n",
    "Python has a *\"batteries-included\"* philosophy. This means that the language includes several high-level structures (lists, dictionaries, date / time, complex numbers and others) and a vast collection of modules ready for use, plus third-party frameworks that can be added. It also has features found in other modern languages, such as generators, introspection, persistence, metaclasses and unity tests. Multiparadigm, the language supports modular, functional, and object-oriented programming.\n",
    "\n",
    "Python has a very large and active community. This means that whatever you're doing, chances are that someone else has done something similar. This is helpful when you run into bugs or other issues."
   ]
  },
  {
   "cell_type": "markdown",
   "metadata": {},
   "source": [
    "# Let's get started :D\n",
    "\n",
    "* Go to the following link https://github.com/ACM-SNU/Python-Basics and Click on Part I.ipyb "
   ]
  },
  {
   "cell_type": "markdown",
   "metadata": {},
   "source": [
    "* Attribution: These instructions are partially based on tutorials by [Geek Girls Carrots](http://django.carrots.pl/) and [DjangoGirls](http://tutorial.djangogirls.org/python_installation/README.html).*"
   ]
  }
 ],
 "metadata": {
  "kernelspec": {
   "display_name": "Python 3",
   "language": "python",
   "name": "python3"
  },
  "language_info": {
   "codemirror_mode": {
    "name": "ipython",
    "version": 3
   },
   "file_extension": ".py",
   "mimetype": "text/x-python",
   "name": "python",
   "nbconvert_exporter": "python",
   "pygments_lexer": "ipython3",
   "version": "3.5.1"
  }
 },
 "nbformat": 4,
 "nbformat_minor": 0
}
