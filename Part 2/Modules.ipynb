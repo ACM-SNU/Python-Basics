{
 "cells": [
  {
   "cell_type": "markdown",
   "metadata": {},
   "source": [
    "# Demo/ Exercise\n",
    "Use the following data set and find out the name frequency using I/O and dictionaries"
   ]
  },
  {
   "cell_type": "markdown",
   "metadata": {},
   "source": [
    "## Concept of Modules\n",
    "\n",
    "For grouping reusable code like: \n",
    "1. Functions \n",
    "2. Useful for making code modular\n",
    "3. Other useful stuff, e.g. decorators, context managers\n",
    "\n",
    "Funtions can be turned into modules and then put into use \n",
    "\n",
    "Break our code into 2 ﬁles for reuse: \n",
    "1. cupcakes.py holds the function(s) \n",
    "2. main.py is the main program\n",
    "\n",
    "### Modules themseleves are also .py files\n",
    "\n",
    "\n",
    "### *import* Keyword and funtionality\n",
    "\n",
    "### Exercise\n",
    "1. Write a program using random module to simulate a die\n",
    "\n",
    "*Concept of command line arguments*\n",
    "\n",
    "2. Intergrate command line arguemnts in the die simulator \n"
   ]
  },
  {
   "cell_type": "markdown",
   "metadata": {},
   "source": [
    "## Package Management System - pip\n",
    "\n",
    "What are packages\n",
    "\n",
    "pip - Python Package Index\n",
    "\n",
    "pip is a package management system used to install and manage software packages written in Python. \n",
    "\n",
    "### Difference between package and modules\n",
    "\n",
    "\n",
    "A Python module is simply a Python source file, which can expose classes, functions and global variables.\n",
    "\n",
    "When imported from another Python source file, the file name is treated as a namespace.\n",
    "\n",
    "A Python package is simply a directory of Python module(s).\n",
    "\n",
    "For example, imagine the following directory tree in /usr/lib/python/site-packages:\n",
    "\n",
    "mypackage/__init__.py <-- this is what tells Python to treat this directory as a package\n",
    "mypackage/mymodule.py\n",
    "So then you would do:\n",
    "\n",
    "import mypackage.mymodule\n",
    "or\n",
    "\n",
    "from mypackage.mymodule import myclass\n",
    "\n",
    "\n",
    "### Let's install some packages from pip\n",
    "\n",
    "1. Youtube-dl\n",
    "2. Requests package\n",
    "3. Using requests and username.py script demo\n",
    "\n",
    "## Where to Get Free Python Libraries\n",
    "\n",
    "* When you installed Python, it came with a **standard library**\n",
    "* The Python Package Index has 50,000 free packages for you\n",
    "* GitHub search\n",
    "* Bitbucket search\n",
    "\n",
    "## Using third-party libraries\n",
    "\n",
    "Great programmers don't write all their code themselves. \n",
    "\n",
    "In fact, they write as little as possible, reusing whatever they can.\n",
    "\n",
    "\n",
    "## Some more demos\n",
    "1. username\n",
    "2. weather project \n",
    "3. text classifier (Ganesh)\n",
    "4. sound project (Paul)\n",
    "5. data analysis project (Sid)\n",
    "6. Baato (maybe)\n",
    "\n",
    "## Feedback and next tutorials\n",
    "Please fill out this google form\n"
   ]
  }
 ],
 "metadata": {
  "kernelspec": {
   "display_name": "Python 3",
   "language": "python",
   "name": "python3"
  },
  "language_info": {
   "codemirror_mode": {
    "name": "ipython",
    "version": 3
   },
   "file_extension": ".py",
   "mimetype": "text/x-python",
   "name": "python",
   "nbconvert_exporter": "python",
   "pygments_lexer": "ipython3",
   "version": "3.5.1"
  }
 },
 "nbformat": 4,
 "nbformat_minor": 0
}
